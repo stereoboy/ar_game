{
 "cells": [
  {
   "cell_type": "markdown",
   "metadata": {},
   "source": [
    "# Characters\n",
    "\n",
    "## 살인 청부 업자\n",
    "* 시사와 연동\n",
    "* \"난 죽어도 싼 놈만 죽여왔다!\"\n",
    "* \n",
    "## 펀드 매니저\n",
    "* 항상 \n",
    "* 기분이 현재의 KOSPI지수와 연동된다.\n",
    "* \"돈을 내것으로 할 거야\"\n",
    "* 시나리오 돌입\n",
    "  * \n",
    "## 운동 선수\n",
    "* 오늘 내 플레이 봤어?\n",
    "* 어 봤어 너 오늘 이겼더라\"\n",
    "  * 농구?\n",
    "  * 축구?\n",
    "  * 야구?\n",
    "## 인권 변호사\n",
    "* 시사와 연동\n",
    "* \n",
    "## 가수\n",
    "* \n",
    "\n",
    "## 정치인"
   ]
  },
  {
   "cell_type": "markdown",
   "metadata": {},
   "source": [
    "# 게임 진행\n",
    "* 게임 진행"
   ]
  },
  {
   "cell_type": "markdown",
   "metadata": {},
   "source": [
    "## Vision\n",
    "* 가능한 Vision 기술을 단순화하여 게임에 접목한다."
   ]
  },
  {
   "cell_type": "markdown",
   "metadata": {},
   "source": [
    "### Face Analysis\n",
    "1. 외양 분석\n",
    "  * e.g.\n",
    "    * \"긴 머리가 잘 어울려요\"\n",
    "1. Emotion 분석\n",
    "  * e.g.\n",
    "    * \"얼굴 표정이 전혀 즐겁지 않을데... 거짓말을 하니?\n",
    "1. 움직임 분석\n",
    "  * e.g.\n",
    "    * 혀를 내밀었을때 \"너 메롱했어?\"\n",
    "    * 입을 많이 움직였을때\n",
    "    * 얼굴이 잡히지 않을때\n",
    "    * 옆을 봤을때\n",
    "    * 특정 행위를 요구했을 때 그대로 따르면 점수를 준다.\n",
    "    * 윙크해줘!\n",
    "    * 웃어줘!"
   ]
  },
  {
   "cell_type": "markdown",
   "metadata": {},
   "source": [
    "### Capturing of Specific Object Images\n",
    "* e.g.\n",
    "  * \"스테이플러를 가져다줘\"\n",
    "  * \"아프니까 약국에좀 가서 타이레놀을 사줄래?\"\n",
    "  * \"먹을거를 보내줘\"\n",
    "    * 학습이 안된 음식 사진을 보낼 때\n",
    "      * 미안해 처음 먹어봐 이게 뭐니? \"짜장면\" <- 사용자에게 태깅을 은근슬쩍 요구 ( 직접 편집 시에 문제가 많기 때문에 객관식으로 해야할지도...) \n",
    "      * 분류기에서 분류가 확실하지 않을때도 객관식 답을 주고 확인한다.\n",
    "      * 새로운 사진을 주면 점수를 올려준다."
   ]
  },
  {
   "cell_type": "markdown",
   "metadata": {},
   "source": [
    "### Location-based Plaing using GPS\n",
    "* e.g.\n",
    "  * \"근처 버스 정류장에 가자\"\n",
    "  * \"예술의 전당에 가고 싶어\"\n",
    "  * \"국립 박물관에 가고 싶어\"\n",
    "  * \"공주 박물관에 가고 싶어\" (멀리까지 가게 할 수 있을까?)"
   ]
  },
  {
   "cell_type": "markdown",
   "metadata": {},
   "source": [
    "## Chatting\n",
    "### Relationship with Vision\n",
    "* 이 게임의 특징으로 Vision과 Chatbot 을 결합한다.\n",
    "* \n",
    "* e.g.\n",
    "  * \"안녕"
   ]
  }
 ],
 "metadata": {
  "kernelspec": {
   "display_name": "Python 2",
   "language": "python",
   "name": "python2"
  },
  "language_info": {
   "codemirror_mode": {
    "name": "ipython",
    "version": 2
   },
   "file_extension": ".py",
   "mimetype": "text/x-python",
   "name": "python",
   "nbconvert_exporter": "python",
   "pygments_lexer": "ipython2",
   "version": "2.7.12"
  }
 },
 "nbformat": 4,
 "nbformat_minor": 1
}
